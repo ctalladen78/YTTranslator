{
 "cells": [
  {
   "cell_type": "code",
   "execution_count": null,
   "id": "dc87d304-dc10-471a-8627-fbca4bbac347",
   "metadata": {},
   "outputs": [],
   "source": [
    "\n",
    "# https://github.com/alphasecio/langchain-examples/blob/main/chroma-summary/langchain_doc_summarizer.ipynb\n"
   ]
  },
  {
   "cell_type": "code",
   "execution_count": null,
   "id": "423b52b4-f673-4051-960e-926a99926d67",
   "metadata": {},
   "outputs": [],
   "source": [
    "!pip install langchain\n",
    "!pip install openai\n",
    "!pip install streamlit\n",
    "!pip install tiktoken\n",
    "!pip install chromadb\n",
    "!pip install pypdf\n",
    "!pip install pycryptodome\n"
   ]
  },
  {
   "cell_type": "code",
   "execution_count": null,
   "id": "7418ba43-2b40-43c3-a061-c3251cd3228c",
   "metadata": {},
   "outputs": [],
   "source": [
    "import os, tempfile\n",
    "import streamlit as st\n",
    "from langchain.llms.openai import OpenAI\n",
    "from langchain.vectorstores.chroma import Chroma\n",
    "from langchain.embeddings.openai import OpenAIEmbeddings\n",
    "from langchain.chains.summarize import load_summarize_chain\n",
    "from langchain.document_loaders import PyPDFLoader\n",
    "\n",
    "# Streamlit app\n",
    "st.subheader('LangChain Doc Summary')\n",
    "\n",
    "# Get OpenAI API key and source document input\n",
    "openai_api_key = st.text_input(\"OpenAI API Key\", type=\"password\")\n",
    "source_doc = st.file_uploader(\"Upload Source Document\", type=\"pdf\")\n",
    "\n",
    "# If the 'Summarize' button is clicked\n",
    "if st.button(\"Summarize\"):\n",
    "    # Validate inputs\n",
    "    if not openai_api_key.strip() or not source_doc:\n",
    "        st.error(f\"Please provide the missing fields.\")\n",
    "    else:\n",
    "        try:\n",
    "            with st.spinner('Please wait...'):\n",
    "              # Save uploaded file temporarily to disk, load and split the file into pages, delete temp file\n",
    "              with tempfile.NamedTemporaryFile(delete=False) as tmp_file:\n",
    "                  tmp_file.write(source_doc.read())\n",
    "              loader = PyPDFLoader(tmp_file.name)\n",
    "              pages = loader.load_and_split()\n",
    "              os.remove(tmp_file.name)\n",
    "\n",
    "              # Create embeddings for the pages and insert into Chroma database\n",
    "              embeddings=OpenAIEmbeddings(openai_api_key=openai_api_key)\n",
    "              vectordb = Chroma.from_documents(pages, embeddings)\n",
    "\n",
    "              # Initialize the OpenAI module, load and run the summarize chain\n",
    "              llm=OpenAI(temperature=0, openai_api_key=openai_api_key)\n",
    "              chain = load_summarize_chain(llm, chain_type=\"stuff\")\n",
    "              search = vectordb.similarity_search(\" \")\n",
    "              summary = chain.run(input_documents=search, question=\"Write a summary within 200 words.\")\n",
    "\n",
    "              st.success(summary)\n",
    "        except Exception as e:\n",
    "            st.exception(f\"An error occurred: {e}\")"
   ]
  },
  {
   "cell_type": "code",
   "execution_count": null,
   "id": "37e2541d-bd50-48bf-acce-e12b852d8d81",
   "metadata": {},
   "outputs": [],
   "source": []
  },
  {
   "cell_type": "code",
   "execution_count": null,
   "id": "d44f9a1d-9eb1-450c-8271-df85819812ad",
   "metadata": {},
   "outputs": [],
   "source": []
  },
  {
   "cell_type": "code",
   "execution_count": null,
   "id": "720705de-1196-484d-bf93-c61c3af3be29",
   "metadata": {},
   "outputs": [],
   "source": []
  },
  {
   "cell_type": "code",
   "execution_count": null,
   "id": "94d6caa0-71fb-4a17-96e1-f161e298c018",
   "metadata": {},
   "outputs": [],
   "source": []
  },
  {
   "cell_type": "code",
   "execution_count": null,
   "id": "75fcb43f-f718-4d54-8eed-89afd0de0e4b",
   "metadata": {},
   "outputs": [],
   "source": []
  },
  {
   "cell_type": "code",
   "execution_count": null,
   "id": "9a8c49cb-5122-40e0-9ce3-6dfde9aa03c2",
   "metadata": {},
   "outputs": [],
   "source": []
  }
 ],
 "metadata": {
  "kernelspec": {
   "display_name": "tf",
   "language": "python",
   "name": "tf"
  },
  "language_info": {
   "codemirror_mode": {
    "name": "ipython",
    "version": 3
   },
   "file_extension": ".py",
   "mimetype": "text/x-python",
   "name": "python",
   "nbconvert_exporter": "python",
   "pygments_lexer": "ipython3",
   "version": "3.10.10"
  }
 },
 "nbformat": 4,
 "nbformat_minor": 5
}
